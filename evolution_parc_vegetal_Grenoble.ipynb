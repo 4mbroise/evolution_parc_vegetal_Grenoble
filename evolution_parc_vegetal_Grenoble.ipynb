{
 "cells": [
  {
   "cell_type": "markdown",
   "id": "f8a041bc-83fa-4138-8bf9-ff8de8b04027",
   "metadata": {
    "tags": []
   },
   "source": [
    "# Évolution du parc végétal de Grenoble"
   ]
  },
  {
   "cell_type": "markdown",
   "id": "29ed9313-ad92-41db-9c3c-0761a7f824ba",
   "metadata": {},
   "source": [
    "## Imports"
   ]
  },
  {
   "cell_type": "code",
   "execution_count": null,
   "id": "02cc6dab-9b64-43b0-9db0-230dc14505a2",
   "metadata": {},
   "outputs": [
    {
     "ename": "",
     "evalue": "",
     "output_type": "error",
     "traceback": [
      "\u001b[1;31mLes cellules en cours d’exécution avec c:\\Users\\Ambroise\\AppData\\Local\\Microsoft\\WindowsApps\\python3.9.exe nécessitent ipykernel package.\n",
      "\u001b[1;31mExécutez la commande suivante pour installer 'ipykernel' dans l’environnement Python. \n",
      "\u001b[1;31mCommande : 'c:/Users/Ambroise/AppData/Local/Microsoft/WindowsApps/python3.9.exe -m pip install ipykernel -U --user --force-reinstall'"
     ]
    }
   ],
   "source": [
    "import pandas as pd\n",
    "import matplotlib.pyplot as plt\n",
    "import ipywidgets as widgets\n",
    "from ipywidgets import interact, interact_manual\n",
    "from ipywidgets import interact, interactive, fixed, interact_manual\n"
   ]
  },
  {
   "cell_type": "markdown",
   "id": "30dc9cb6-7e66-46da-be8b-f818eacb1fba",
   "metadata": {},
   "source": [
    "## Download the [Dataset](https://entrepot.metropolegrenoble.fr/opendata/38185-GRE/EspacePublic/csv/ESP_PUBLIC.IDENTITE_ARBRE.csv)\n",
    "(https://entrepot.metropolegrenoble.fr/opendata/38185-GRE/EspacePublic/csv/ESP_PUBLIC.IDENTITE_ARBRE.csv)\n"
   ]
  },
  {
   "cell_type": "code",
   "execution_count": null,
   "id": "f6906148-2670-4661-a31e-1901fbad38c3",
   "metadata": {},
   "outputs": [
    {
     "ename": "",
     "evalue": "",
     "output_type": "error",
     "traceback": [
      "\u001b[1;31mLes cellules en cours d’exécution avec c:\\Users\\Ambroise\\AppData\\Local\\Microsoft\\WindowsApps\\python3.9.exe nécessitent ipykernel package.\n",
      "\u001b[1;31mExécutez la commande suivante pour installer 'ipykernel' dans l’environnement Python. \n",
      "\u001b[1;31mCommande : 'c:/Users/Ambroise/AppData/Local/Microsoft/WindowsApps/python3.9.exe -m pip install ipykernel -U --user --force-reinstall'"
     ]
    }
   ],
   "source": [
    "url = 'https://entrepot.metropolegrenoble.fr/opendata/38185-GRE/EspacePublic/csv/ESP_PUBLIC.IDENTITE_ARBRE.csv'\n",
    "df = pd.read_csv(url, low_memory=False)"
   ]
  },
  {
   "cell_type": "code",
   "execution_count": null,
   "id": "d770d7ca-7fb0-4f1d-a5b3-f3033f75ea1e",
   "metadata": {
    "tags": []
   },
   "outputs": [
    {
     "ename": "",
     "evalue": "",
     "output_type": "error",
     "traceback": [
      "\u001b[1;31mLes cellules en cours d’exécution avec c:\\Users\\Ambroise\\AppData\\Local\\Microsoft\\WindowsApps\\python3.9.exe nécessitent ipykernel package.\n",
      "\u001b[1;31mExécutez la commande suivante pour installer 'ipykernel' dans l’environnement Python. \n",
      "\u001b[1;31mCommande : 'c:/Users/Ambroise/AppData/Local/Microsoft/WindowsApps/python3.9.exe -m pip install ipykernel -U --user --force-reinstall'"
     ]
    }
   ],
   "source": [
    "#df.ANNEEDEPLANTATION.unique()\n",
    "#df.SOUS_CATEGORIE_DESC.unique()"
   ]
  },
  {
   "cell_type": "code",
   "execution_count": null,
   "id": "82a6df22-7b40-42d3-baa3-22ebf727b143",
   "metadata": {},
   "outputs": [
    {
     "ename": "",
     "evalue": "",
     "output_type": "error",
     "traceback": [
      "\u001b[1;31mLes cellules en cours d’exécution avec c:\\Users\\Ambroise\\AppData\\Local\\Microsoft\\WindowsApps\\python3.9.exe nécessitent ipykernel package.\n",
      "\u001b[1;31mExécutez la commande suivante pour installer 'ipykernel' dans l’environnement Python. \n",
      "\u001b[1;31mCommande : 'c:/Users/Ambroise/AppData/Local/Microsoft/WindowsApps/python3.9.exe -m pip install ipykernel -U --user --force-reinstall'"
     ]
    }
   ],
   "source": [
    "#display(df)"
   ]
  },
  {
   "cell_type": "markdown",
   "id": "7488db78-71b7-4951-a8f9-b1d20c78b06d",
   "metadata": {},
   "source": [
    "## Proportion des principales espèces botaniques présentes au sein des arbres plantés à Grenoble\n",
    "- On ne conserve que **les espèces botaniques plantées au moins 150 fois** (pour que le diagramme soit un minimum lisible)"
   ]
  },
  {
   "cell_type": "code",
   "execution_count": null,
   "id": "ddf7928b-7e96-4bf5-acb2-d98fc99184e3",
   "metadata": {},
   "outputs": [
    {
     "ename": "",
     "evalue": "",
     "output_type": "error",
     "traceback": [
      "\u001b[1;31mLes cellules en cours d’exécution avec c:\\Users\\Ambroise\\AppData\\Local\\Microsoft\\WindowsApps\\python3.9.exe nécessitent ipykernel package.\n",
      "\u001b[1;31mExécutez la commande suivante pour installer 'ipykernel' dans l’environnement Python. \n",
      "\u001b[1;31mCommande : 'c:/Users/Ambroise/AppData/Local/Microsoft/WindowsApps/python3.9.exe -m pip install ipykernel -U --user --force-reinstall'"
     ]
    }
   ],
   "source": [
    "genreBotanique = pd.DataFrame(df[\"GENRE_BOTA\"])\n",
    "test = genreBotanique.groupby('GENRE_BOTA').value_counts()\n",
    "test[test >= 150].dropna().plot.pie(figsize=(16,16), subplots=True, legend=False)"
   ]
  },
  {
   "cell_type": "markdown",
   "id": "89496c99-e6c9-4d6d-8098-75ad9a76a24b",
   "metadata": {
    "tags": []
   },
   "source": [
    "## Digramme Interractif : Proportion des espèces botaniques plantées au sein des différents arbres à Grenoble par année\n",
    "- Filtre pour observer seulement les arbres de voirie ou non \n",
    "- On ne conserve pas que *les espèces botaniques plantées au moins 150 fois* (Le diagramme peut difficielement lisible)"
   ]
  },
  {
   "cell_type": "code",
   "execution_count": null,
   "id": "2a661ee8-07e8-41a4-95ae-43e1178b1ea8",
   "metadata": {},
   "outputs": [
    {
     "ename": "",
     "evalue": "",
     "output_type": "error",
     "traceback": [
      "\u001b[1;31mLes cellules en cours d’exécution avec c:\\Users\\Ambroise\\AppData\\Local\\Microsoft\\WindowsApps\\python3.9.exe nécessitent ipykernel package.\n",
      "\u001b[1;31mExécutez la commande suivante pour installer 'ipykernel' dans l’environnement Python. \n",
      "\u001b[1;31mCommande : 'c:/Users/Ambroise/AppData/Local/Microsoft/WindowsApps/python3.9.exe -m pip install ipykernel -U --user --force-reinstall'"
     ]
    }
   ],
   "source": [
    "from IPython.display import display\n",
    "def updateChart(yearPlantation, arbreVoirieFlag):\n",
    "    \n",
    "    # Deep Copy original DataSet\n",
    "    copy = df.copy(deep=True)\n",
    "    \n",
    "    # filter if arbreVoirieFlag is True\n",
    "    if arbreVoirieFlag:\n",
    "        copy = copy.loc[copy[\"SOUS_CATEGORIE_DESC\"] == \"Arbre de voirie\"]\n",
    "    \n",
    "    # filter trees to keep only those that were planted before yearPlantation\n",
    "    copy = copy.loc[copy[\"ANNEEDEPLANTATION\"] <= yearPlantation]\n",
    "    \n",
    "    # Count tree by botanical genus\n",
    "    botanicalGenus = pd.DataFrame(copy[\"GENRE_BOTA\"])\n",
    "    botanicalGenus = botanicalGenus.groupby('GENRE_BOTA').value_counts()\n",
    "    \n",
    "    #botanicalGenus[botanicalGenus >= 150].dropna().plot.pie(figsize=(16,16), subplots=True, legend=False)\n",
    "    botanicalGenus.plot.pie(figsize=(16,16), subplots=True, legend=False)\n",
    "\n",
    "interact(updateChart, yearPlantation=(1900,2021), arbreVoirieFlag=widgets.Checkbox(value=False,description='Arbre de voirie',disabled=False))\n",
    "\n"
   ]
  },
  {
   "cell_type": "markdown",
   "id": "738d8797-9107-4695-a8a6-6bbe70a701f2",
   "metadata": {},
   "source": [
    "## Digramme Interractif : Proportion des principales espèces botaniques plantées au sein des différents arbres à Grenoble par année\n",
    "- Filtre pour observer seulement les arbres de voirie ou non \n",
    "- On ne conserve que **les espèces botaniques plantées au moins 150 fois** (pour que le diagramme soit un minimum lisible)"
   ]
  },
  {
   "cell_type": "code",
   "execution_count": null,
   "id": "8c823526-a16a-410b-a3a7-0f6114d635fd",
   "metadata": {
    "tags": []
   },
   "outputs": [
    {
     "ename": "",
     "evalue": "",
     "output_type": "error",
     "traceback": [
      "\u001b[1;31mLes cellules en cours d’exécution avec c:\\Users\\Ambroise\\AppData\\Local\\Microsoft\\WindowsApps\\python3.9.exe nécessitent ipykernel package.\n",
      "\u001b[1;31mExécutez la commande suivante pour installer 'ipykernel' dans l’environnement Python. \n",
      "\u001b[1;31mCommande : 'c:/Users/Ambroise/AppData/Local/Microsoft/WindowsApps/python3.9.exe -m pip install ipykernel -U --user --force-reinstall'"
     ]
    }
   ],
   "source": [
    "from IPython.display import display\n",
    "def updateChart(yearPlantation, arbreVoirieFlag):\n",
    "    \n",
    "    # Deep Copy original DataSet\n",
    "    copy = df.copy(deep=True)\n",
    "    \n",
    "    # filter if arbreVoirieFlag is True\n",
    "    if arbreVoirieFlag:\n",
    "        copy = copy.loc[copy[\"SOUS_CATEGORIE_DESC\"] == \"Arbre de voirie\"]\n",
    "    \n",
    "    # filter trees to keep only those that were planted before yearPlantation\n",
    "    copy = copy.loc[copy[\"ANNEEDEPLANTATION\"] <= yearPlantation]\n",
    "    \n",
    "    # Count tree by botanical genus\n",
    "    botanicalGenus = pd.DataFrame(copy[\"GENRE_BOTA\"])\n",
    "    botanicalGenus = botanicalGenus.groupby('GENRE_BOTA').value_counts()\n",
    "    \n",
    "    #botanicalGenus[botanicalGenus >= 150].dropna().plot.pie(figsize=(16,16), subplots=True, legend=False)\n",
    "    botanicalGenus[botanicalGenus >= 150].dropna().plot.pie(figsize=(16,16), subplots=True, legend=False)\n",
    "\n",
    "interact(updateChart, yearPlantation=(1900,2021), arbreVoirieFlag=widgets.Checkbox(value=False,description='Arbre de voirie',disabled=False))\n",
    "\n"
   ]
  },
  {
   "cell_type": "markdown",
   "id": "22594c92-77d5-4a8f-b46a-00f48f4b477c",
   "metadata": {},
   "source": [
    "## Digramme Interractif : Proportion des espèces botaniques secondaire plantées au sein des différents arbres à Grenoble par année\n",
    "- Filtre pour observer seulement les arbres de voirie ou non \n",
    "- On ne conserve que **les espèces botaniques plantées moins 150 fois** (pour que le diagramme soit un minimum lisible)"
   ]
  },
  {
   "cell_type": "code",
   "execution_count": null,
   "id": "168928a0",
   "metadata": {
    "tags": []
   },
   "outputs": [
    {
     "ename": "",
     "evalue": "",
     "output_type": "error",
     "traceback": [
      "\u001b[1;31mLes cellules en cours d’exécution avec c:\\Users\\Ambroise\\AppData\\Local\\Microsoft\\WindowsApps\\python3.9.exe nécessitent ipykernel package.\n",
      "\u001b[1;31mExécutez la commande suivante pour installer 'ipykernel' dans l’environnement Python. \n",
      "\u001b[1;31mCommande : 'c:/Users/Ambroise/AppData/Local/Microsoft/WindowsApps/python3.9.exe -m pip install ipykernel -U --user --force-reinstall'"
     ]
    }
   ],
   "source": [
    "from IPython.display import display\n",
    "def updateChart(yearPlantation, arbreVoirieFlag):\n",
    "    \n",
    "    # Deep Copy original DataSet\n",
    "    copy = df.copy(deep=True)\n",
    "    \n",
    "    # filter if arbreVoirieFlag is True\n",
    "    if arbreVoirieFlag:\n",
    "        copy = copy.loc[copy[\"SOUS_CATEGORIE_DESC\"] == \"Arbre de voirie\"]\n",
    "    \n",
    "    # filter trees to keep only those that were planted before yearPlantation\n",
    "    copy = copy.loc[copy[\"ANNEEDEPLANTATION\"] <= yearPlantation]\n",
    "    \n",
    "    # Count tree by botanical genus\n",
    "    botanicalGenus = pd.DataFrame(copy[\"GENRE_BOTA\"])\n",
    "    botanicalGenus = botanicalGenus.groupby('GENRE_BOTA').value_counts()\n",
    "    \n",
    "    #botanicalGenus[botanicalGenus >= 150].dropna().plot.pie(figsize=(16,16), subplots=True, legend=False)\n",
    "    botanicalGenus[botanicalGenus < 150].dropna().plot.pie(figsize=(16,16), subplots=True, legend=False)\n",
    "\n",
    "interact(updateChart, yearPlantation=(1900,2021), arbreVoirieFlag=widgets.Checkbox(value=False,description='Arbre de voirie',disabled=False))\n",
    "\n"
   ]
  },
  {
   "cell_type": "code",
   "execution_count": null,
   "id": "7915c11b-1437-4419-b1f7-764556d522dd",
   "metadata": {},
   "outputs": [
    {
     "ename": "",
     "evalue": "",
     "output_type": "error",
     "traceback": [
      "\u001b[1;31mLes cellules en cours d’exécution avec c:\\Users\\Ambroise\\AppData\\Local\\Microsoft\\WindowsApps\\python3.9.exe nécessitent ipykernel package.\n",
      "\u001b[1;31mExécutez la commande suivante pour installer 'ipykernel' dans l’environnement Python. \n",
      "\u001b[1;31mCommande : 'c:/Users/Ambroise/AppData/Local/Microsoft/WindowsApps/python3.9.exe -m pip install ipykernel -U --user --force-reinstall'"
     ]
    }
   ],
   "source": []
  }
 ],
 "metadata": {
  "kernelspec": {
   "display_name": "Python 3",
   "language": "python",
   "name": "python3"
  },
  "language_info": {
   "codemirror_mode": {
    "name": "ipython",
    "version": 3
   },
   "file_extension": ".py",
   "mimetype": "text/x-python",
   "name": "python",
   "nbconvert_exporter": "python",
   "pygments_lexer": "ipython3",
   "version": "3.9.13 (tags/v3.9.13:6de2ca5, May 17 2022, 16:36:42) [MSC v.1929 64 bit (AMD64)]"
  },
  "toc-autonumbering": false,
  "vscode": {
   "interpreter": {
    "hash": "69457ac013e08e5f4a5492ebf3a5a8b8741c7c0fb5b0700ae618652c21c80002"
   }
  }
 },
 "nbformat": 4,
 "nbformat_minor": 5
}
